{
 "cells": [
  {
   "cell_type": "code",
   "execution_count": 1,
   "id": "78c4bde5-cb01-4c4e-965d-dc90e43d08dd",
   "metadata": {},
   "outputs": [
    {
     "name": "stdout",
     "output_type": "stream",
     "text": [
      "The first person to land on the moon was Neil Armstrong. He stepped onto the lunar surface on July 20, 1969, as part of the Apollo 11 mission.\n"
     ]
    }
   ],
   "source": [
    "from langchain_groq import ChatGroq\n",
    "\n",
    "llm = ChatGroq(\n",
    "    temperature=0,\n",
    "    groq_api_key='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',\n",
    "    model_name=\"llama-3.1-70b-versatile\",\n",
    ")\n",
    "response = llm.invoke(\"The first person to land on moon was ...\")\n",
    "print(response.content)"
   ]
  },
  {
   "cell_type": "code",
   "execution_count": 3,
   "id": "c4db0746-2685-421f-aebd-417bd9e112df",
   "metadata": {},
   "outputs": [
    {
     "name": "stdout",
     "output_type": "stream",
     "text": [
      "Note: you may need to restart the kernel to use updated packages.\n"
     ]
    }
   ],
   "source": [
    "%pip install -qU langchain_community beautifulsoup4"
   ]
  },
  {
   "cell_type": "code",
   "execution_count": 2,
   "id": "ce455436-c89e-4b0c-8297-c79aa26c9ac2",
   "metadata": {},
   "outputs": [
    {
     "name": "stderr",
     "output_type": "stream",
     "text": [
      "USER_AGENT environment variable not set, consider setting it to identify your requests.\n"
     ]
    },
    {
     "name": "stdout",
     "output_type": "stream",
     "text": [
      "Apply for Lead, Global Web Analytics, Converse\n",
      "\n",
      "Search JobsSkip navigationSearch JobsNIKE, INC. JOBSContract JobsJoin The Talent CommunityLife @ NikeOverviewBenefitsBrandsOverviewJordanConverseTeamsOverviewAdministrative SupportAdvanced InnovationAir Manufacturing InnovationAviationCommunicationsCustomer ServiceDesignDigitalFacilitiesFinance & AccountingGovernment & Public AffairsHuman ResourcesInsights & AnalyticsLegalManufacturing & EngineeringMarketingMerchandisingPlanningPrivacyProcurementProduct Creation, Development & ManagementRetail CorporateRetail StoresSalesSocial & Community ImpactSports MarketingStrategic PlanningSupply Chain, Distribution & LogisticsSustainabilityTechnologyLocationsOverviewNike WHQNike New York HQEHQ: Hilversum, The NetherlandsELC: Laakdal, BelgiumGreater China HQDiversity, Equity & InclusionOverviewMilitary InclusionDisability InclusionIndigenous InclusionInternshipsData & AnalyticsLead, Global Web Analytics, ConverseBoston, MassachusettsBecome part of the Converse Team\n",
      " \n",
      "Converse is a place to explore potential, break barriers and push out the edges of what can be. The company looks for people who can grow, think, dream and create. Its culture thrives by embracing diversity and rewarding imagination. The brand seeks achievers, leaders and visionaries. At Converse, it’s about each person bringing skills and passion to a challenging and constantly evolving world to make things better as a team.Open to remote work except in South Dakota, Vermont and West Virginia.The annual base salary for this position ranges from $119,400.00 in our lowest geographic market to $267,500.00 in our highest geographic market. Actual salary will vary based on a candidate's location, qualifications, skills and experience.Information about benefits can be found here. About the JobConverse is a place to explore potential, break barriers and push out the edges of what can be. The company looks for people who can grow, think, dream and create. Its culture thrives by embracing diversity and rewarding imagination. The brand seeks achievers, leaders and visionaries. At Converse, it's about each person bringing skills and passion to a challenging and constantly evolving world to make things better as a team.Who We Are Looking ForConverse is looking for a Lead, Web analytics Global. This role is responsible for supporting the delivery of data driven solutions to improve web analytics insights, marketing performance and understanding the consumer behavior. Hands-on experience with enterprise web analytics suites, such as Adobe or Google Analytics, and the corresponding tools and skills for further data analysis, testing accurate measurement & delivering business insight will be at the core of your role.  You should enjoy working in a fast paced, highly collaborative environment, and have an ability to translate business needs to solutions.What You Will Work OnKey responsibilities include:Support ongoing site experience enhancements:Be proactive in supporting cross functional teams (UX, Product, Testing) to turn data into insight and actionCreate measurement frameworks to support site release, product enhancements, or campaign analysis in a simple, actionable wayProactively identify new opportunities & analytics applications:Recommend practical insights by diving deeper into site experience data (site optimization, customer journey, audience identification, and segmentation)Enhance & maintain ongoing reporting needed to help the business monitor trend(s)Be a thought partner to help create an Insights foundation rooted in experience analyticsMaintain data foundation & reporting:Ensure accurate website reporting and tagging for Converse North America and Western Europe platformsDevelop and perform quality checks on data for both ad hoc and ongoing processesEnable the business to self-serve through building out a reporting repository and documenting best data pulling practicesImprove ways of working and strengthen partnerships:Be a collaborative partner to our internal stakeholders including business and technology partnersCollaborate with key stakeholders to integrate insights into the planning processQualifications:Bachelor's degree in business, strategy, statistics, decision science, or combination or relevant education, experienceMust have 5+ years of proven ability in web analytics, digital marketing, and site optimization roles leveraging data and insights to drive recommendationsExpertise with Adobe Analytics, Google Analytics or similar web analytics tools (variables, events, segments, dimensions, custom queries, etc.), and tag management tools (e.g. GTM, DTM, etc.)Understanding of how to use digital media, performance marketing and emerging channels such as paid search (Google ads), paid social (Facebook, Instagram ads), email, affiliates etc. to drive customer acquisition and retentionProficient in Excel and PowerPoint · Strong understanding of CDP and DMP platforms (Segment, Tealium Audience Stream, Adobe Audience Manager, etc.)Excellent communication skills including the ability to influence decision makers and internal clientsCritical thinking and problem solverPositive demeanor and willingness to learn new thingsExcellent time management and ability to prioritize multiple work streamsExperience in SQL a plusConverse is more than a company; it’s a worldwide advocate for self-expression. This belief motivates our employees, permeates our working environment and inspires our products. No two of us look or think exactly alike. We are each one-of-a-kind. Individually and as a culture, we have the freedom to create and grow professionally. Generous benefits packages only sweeten the experience. From Boston to Shanghai, from Brand Design to Finance, Converse is a brand that celebrates the unique and creative people of the world. Together, we’re different.How We HireAt NIKE, Inc. we promise to provide a premium, inclusive, compelling and authentic candidate experience. Delivering on this promise means we allow you to be at your best — and to do that, you need to understand how the hiring process works. Transparency is key.\n",
      "\n",
      "* This overview explains our hiring process for corporate roles. Note there may be different hiring steps involved for non-corporate roles.Start nowBenefitsWhether it’s transportation or financial health, we continually invest in our employees to help them achieve greatness — inside and outside of work. All who work here should be able to realize their full potential.Employee Assistance ProgramEmployee Stock Purchase Plan (ESPP)HolidaysMedical PlanPaid Time Off (PTO)Product DiscountsSabbaticalsSummer HoursLearn moreFIND A STOREBECOME A MEMBERSIGN UP FOR EMAILSEND US FEEDBACKSTUDENT DISCOUNTSGET HELPGET HELPOrder StatusDeliveryReturnsPayment OptionsContact Us On Nike.com InquiriesContact Us On All Other InquiriesABOUT NIKEABOUT NIKENewsCareersInvestorsSustainabilityIndia© 2024 Nike, Inc. All Rights ReservedGuidesNike AdaptNike Air MaxNike FlyleatherNike PegasusNike Zoom FlyNike AirNike FlyEaseNike FreeNike ReactNike ZoomXNike Air Force 1Nike FlyknitNike JoyrideNike VaporflyTerms of SaleTerms of UseNike Privacy Policy\n"
     ]
    }
   ],
   "source": [
    "from langchain_community.document_loaders import WebBaseLoader\n",
    "\n",
    "loader = WebBaseLoader(\"https://jobs.nike.com/job/R-40929\")\n",
    "page_data = loader.load().pop().page_content\n",
    "print(page_data)"
   ]
  },
  {
   "cell_type": "code",
   "execution_count": 3,
   "id": "4edc4f59-7d5a-471f-9e47-098cd386965f",
   "metadata": {},
   "outputs": [
    {
     "name": "stdout",
     "output_type": "stream",
     "text": [
      "```json\n",
      "{\n",
      "  \"role\": \"Lead, Global Web Analytics, Converse\",\n",
      "  \"experience\": \"5+ years of proven ability in web analytics, digital marketing, and site optimization roles leveraging data and insights to drive recommendations\",\n",
      "  \"skills\": [\n",
      "    \"Adobe Analytics, Google Analytics or similar web analytics tools (variables, events, segments, dimensions, custom queries, etc.)\",\n",
      "    \"Tag management tools (e.g. GTM, DTM, etc.)\",\n",
      "    \"Digital media, performance marketing and emerging channels such as paid search (Google ads), paid social (Facebook, Instagram ads), email, affiliates etc.\",\n",
      "    \"Excel and PowerPoint\",\n",
      "    \"CDP and DMP platforms (Segment, Tealium Audience Stream, Adobe Audience Manager, etc.)\",\n",
      "    \"SQL (a plus)\"\n",
      "  ],\n",
      "  \"description\": \"Converse is looking for a Lead, Web analytics Global. This role is responsible for supporting the delivery of data driven solutions to improve web analytics insights, marketing performance and understanding the consumer behavior.\"\n",
      "}\n",
      "```\n"
     ]
    }
   ],
   "source": [
    "from langchain_core.prompts import PromptTemplate\n",
    "prompt_extract = PromptTemplate.from_template(\n",
    "    \"\"\"\n",
    "    ### SCRAPED TEXT FROM WEBSITE:\n",
    "    {page_data}\n",
    "    ### INSTRUCTION:\n",
    "    The scraped text is from the career's page of website.\n",
    "    Your job is to extract the job postings and return them in JSON format containing the\n",
    "    following keys: 'role', 'experience', 'skills', and 'description'.\n",
    "    Only return the valid JSON.\n",
    "    ### VALID JSON (NO PREAMBLE):\n",
    "    \"\"\"\n",
    ")\n",
    "chain_extract = prompt_extract | llm\n",
    "res = chain_extract.invoke(input={'page_data':page_data})\n",
    "print(res.content)"
   ]
  },
  {
   "cell_type": "code",
   "execution_count": 4,
   "id": "f3fd2e00-8d70-416d-bf81-6c60e92c7b5a",
   "metadata": {},
   "outputs": [
    {
     "data": {
      "text/plain": [
       "{'role': 'Lead, Global Web Analytics, Converse',\n",
       " 'experience': '5+ years of proven ability in web analytics, digital marketing, and site optimization roles leveraging data and insights to drive recommendations',\n",
       " 'skills': ['Adobe Analytics, Google Analytics or similar web analytics tools (variables, events, segments, dimensions, custom queries, etc.)',\n",
       "  'Tag management tools (e.g. GTM, DTM, etc.)',\n",
       "  'Digital media, performance marketing and emerging channels such as paid search (Google ads), paid social (Facebook, Instagram ads), email, affiliates etc.',\n",
       "  'Excel and PowerPoint',\n",
       "  'CDP and DMP platforms (Segment, Tealium Audience Stream, Adobe Audience Manager, etc.)',\n",
       "  'SQL (a plus)'],\n",
       " 'description': 'Converse is looking for a Lead, Web analytics Global. This role is responsible for supporting the delivery of data driven solutions to improve web analytics insights, marketing performance and understanding the consumer behavior.'}"
      ]
     },
     "execution_count": 4,
     "metadata": {},
     "output_type": "execute_result"
    }
   ],
   "source": [
    "from langchain_core.output_parsers import JsonOutputParser\n",
    "json_parser = JsonOutputParser()\n",
    "json_res = json_parser.parse(res.content)\n",
    "json_res"
   ]
  },
  {
   "cell_type": "code",
   "execution_count": 5,
   "id": "2e8ff43a-777a-4078-80d9-88c4748fa745",
   "metadata": {},
   "outputs": [
    {
     "data": {
      "text/plain": [
       "dict"
      ]
     },
     "execution_count": 5,
     "metadata": {},
     "output_type": "execute_result"
    }
   ],
   "source": [
    "type(json_res)"
   ]
  },
  {
   "cell_type": "code",
   "execution_count": 6,
   "id": "aec56466-eed7-4b5f-b8b6-ddd262a2bafd",
   "metadata": {},
   "outputs": [
    {
     "data": {
      "text/html": [
       "<div>\n",
       "<style scoped>\n",
       "    .dataframe tbody tr th:only-of-type {\n",
       "        vertical-align: middle;\n",
       "    }\n",
       "\n",
       "    .dataframe tbody tr th {\n",
       "        vertical-align: top;\n",
       "    }\n",
       "\n",
       "    .dataframe thead th {\n",
       "        text-align: right;\n",
       "    }\n",
       "</style>\n",
       "<table border=\"1\" class=\"dataframe\">\n",
       "  <thead>\n",
       "    <tr style=\"text-align: right;\">\n",
       "      <th></th>\n",
       "      <th>Techstack</th>\n",
       "      <th>Links</th>\n",
       "    </tr>\n",
       "  </thead>\n",
       "  <tbody>\n",
       "    <tr>\n",
       "      <th>0</th>\n",
       "      <td>React, Node.js, MongoDB</td>\n",
       "      <td>https://example.com/react-portfolio</td>\n",
       "    </tr>\n",
       "    <tr>\n",
       "      <th>1</th>\n",
       "      <td>Angular,.NET, SQL Server</td>\n",
       "      <td>https://example.com/angular-portfolio</td>\n",
       "    </tr>\n",
       "    <tr>\n",
       "      <th>2</th>\n",
       "      <td>Vue.js, Ruby on Rails, PostgreSQL</td>\n",
       "      <td>https://example.com/vue-portfolio</td>\n",
       "    </tr>\n",
       "    <tr>\n",
       "      <th>3</th>\n",
       "      <td>Python, Django, MySQL</td>\n",
       "      <td>https://example.com/python-portfolio</td>\n",
       "    </tr>\n",
       "    <tr>\n",
       "      <th>4</th>\n",
       "      <td>Java, Spring Boot, Oracle</td>\n",
       "      <td>https://example.com/java-portfolio</td>\n",
       "    </tr>\n",
       "    <tr>\n",
       "      <th>5</th>\n",
       "      <td>Flutter, Firebase, GraphQL</td>\n",
       "      <td>https://example.com/flutter-portfolio</td>\n",
       "    </tr>\n",
       "    <tr>\n",
       "      <th>6</th>\n",
       "      <td>WordPress, PHP, MySQL</td>\n",
       "      <td>https://example.com/wordpress-portfolio</td>\n",
       "    </tr>\n",
       "    <tr>\n",
       "      <th>7</th>\n",
       "      <td>Magento, PHP, MySQL</td>\n",
       "      <td>https://example.com/magento-portfolio</td>\n",
       "    </tr>\n",
       "    <tr>\n",
       "      <th>8</th>\n",
       "      <td>React Native, Node.js, MongoDB</td>\n",
       "      <td>https://example.com/react-native-portfolio</td>\n",
       "    </tr>\n",
       "    <tr>\n",
       "      <th>9</th>\n",
       "      <td>iOS, Swift, Core Data</td>\n",
       "      <td>https://example.com/ios-portfolio</td>\n",
       "    </tr>\n",
       "    <tr>\n",
       "      <th>10</th>\n",
       "      <td>Android, Java, Room Persistence</td>\n",
       "      <td>https://example.com/android-portfolio</td>\n",
       "    </tr>\n",
       "    <tr>\n",
       "      <th>11</th>\n",
       "      <td>Kotlin, Android, Firebase</td>\n",
       "      <td>https://example.com/kotlin-android-portfolio</td>\n",
       "    </tr>\n",
       "    <tr>\n",
       "      <th>12</th>\n",
       "      <td>Android TV, Kotlin, Android NDK</td>\n",
       "      <td>https://example.com/android-tv-portfolio</td>\n",
       "    </tr>\n",
       "    <tr>\n",
       "      <th>13</th>\n",
       "      <td>iOS, Swift, ARKit</td>\n",
       "      <td>https://example.com/ios-ar-portfolio</td>\n",
       "    </tr>\n",
       "    <tr>\n",
       "      <th>14</th>\n",
       "      <td>Cross-platform, Xamarin, Azure</td>\n",
       "      <td>https://example.com/xamarin-portfolio</td>\n",
       "    </tr>\n",
       "    <tr>\n",
       "      <th>15</th>\n",
       "      <td>Backend, Kotlin, Spring Boot</td>\n",
       "      <td>https://example.com/kotlin-backend-portfolio</td>\n",
       "    </tr>\n",
       "    <tr>\n",
       "      <th>16</th>\n",
       "      <td>Frontend, TypeScript, Angular</td>\n",
       "      <td>https://example.com/typescript-frontend-portfolio</td>\n",
       "    </tr>\n",
       "    <tr>\n",
       "      <th>17</th>\n",
       "      <td>Full-stack, JavaScript, Express.js</td>\n",
       "      <td>https://example.com/full-stack-js-portfolio</td>\n",
       "    </tr>\n",
       "    <tr>\n",
       "      <th>18</th>\n",
       "      <td>Machine Learning, Python, TensorFlow</td>\n",
       "      <td>https://example.com/ml-python-portfolio</td>\n",
       "    </tr>\n",
       "    <tr>\n",
       "      <th>19</th>\n",
       "      <td>DevOps, Jenkins, Docker</td>\n",
       "      <td>https://example.com/devops-portfolio</td>\n",
       "    </tr>\n",
       "  </tbody>\n",
       "</table>\n",
       "</div>"
      ],
      "text/plain": [
       "                               Techstack  \\\n",
       "0                React, Node.js, MongoDB   \n",
       "1               Angular,.NET, SQL Server   \n",
       "2      Vue.js, Ruby on Rails, PostgreSQL   \n",
       "3                  Python, Django, MySQL   \n",
       "4              Java, Spring Boot, Oracle   \n",
       "5             Flutter, Firebase, GraphQL   \n",
       "6                  WordPress, PHP, MySQL   \n",
       "7                    Magento, PHP, MySQL   \n",
       "8         React Native, Node.js, MongoDB   \n",
       "9                  iOS, Swift, Core Data   \n",
       "10       Android, Java, Room Persistence   \n",
       "11             Kotlin, Android, Firebase   \n",
       "12       Android TV, Kotlin, Android NDK   \n",
       "13                     iOS, Swift, ARKit   \n",
       "14        Cross-platform, Xamarin, Azure   \n",
       "15          Backend, Kotlin, Spring Boot   \n",
       "16         Frontend, TypeScript, Angular   \n",
       "17    Full-stack, JavaScript, Express.js   \n",
       "18  Machine Learning, Python, TensorFlow   \n",
       "19               DevOps, Jenkins, Docker   \n",
       "\n",
       "                                                Links  \n",
       "0                 https://example.com/react-portfolio  \n",
       "1               https://example.com/angular-portfolio  \n",
       "2                   https://example.com/vue-portfolio  \n",
       "3                https://example.com/python-portfolio  \n",
       "4                  https://example.com/java-portfolio  \n",
       "5               https://example.com/flutter-portfolio  \n",
       "6             https://example.com/wordpress-portfolio  \n",
       "7               https://example.com/magento-portfolio  \n",
       "8          https://example.com/react-native-portfolio  \n",
       "9                   https://example.com/ios-portfolio  \n",
       "10              https://example.com/android-portfolio  \n",
       "11       https://example.com/kotlin-android-portfolio  \n",
       "12           https://example.com/android-tv-portfolio  \n",
       "13               https://example.com/ios-ar-portfolio  \n",
       "14              https://example.com/xamarin-portfolio  \n",
       "15       https://example.com/kotlin-backend-portfolio  \n",
       "16  https://example.com/typescript-frontend-portfolio  \n",
       "17        https://example.com/full-stack-js-portfolio  \n",
       "18            https://example.com/ml-python-portfolio  \n",
       "19               https://example.com/devops-portfolio  "
      ]
     },
     "execution_count": 6,
     "metadata": {},
     "output_type": "execute_result"
    }
   ],
   "source": [
    "import pandas as pd\n",
    "df = pd.read_csv(\"my_portfolio.csv\")\n",
    "df"
   ]
  },
  {
   "cell_type": "code",
   "execution_count": 7,
   "id": "05aa6b85-1234-4ceb-b8fc-7254a79ef48a",
   "metadata": {},
   "outputs": [],
   "source": [
    "import chromadb\n",
    "import uuid\n",
    "\n",
    "client = chromadb.PersistentClient('vectorstore')\n",
    "collection = client.get_or_create_collection(name=\"portfolio\")\n",
    "\n",
    "if not collection.count():\n",
    "    for _, row in df.iterrows():\n",
    "        collection.add(documents=row[\"Techstack\"],\n",
    "                      metadatas={\"links\": row[\"Links\"]},\n",
    "                      ids=[str(uuid.uuid4())])"
   ]
  },
  {
   "cell_type": "code",
   "execution_count": 8,
   "id": "cfa5f22e-201d-4512-8bd1-4a93f64a1ea6",
   "metadata": {},
   "outputs": [
    {
     "data": {
      "text/plain": [
       "[[{'links': 'https://example.com/ml-python-portfolio'},\n",
       "  {'links': 'https://example.com/python-portfolio'}],\n",
       " [{'links': 'https://example.com/react-portfolio'},\n",
       "  {'links': 'https://example.com/react-native-portfolio'}]]"
      ]
     },
     "execution_count": 8,
     "metadata": {},
     "output_type": "execute_result"
    }
   ],
   "source": [
    "links = collection.query(query_texts=[\"Experience in Python\", \"Expertise in React\"], n_results=2).get('metadatas', [])\n",
    "links"
   ]
  },
  {
   "cell_type": "code",
   "execution_count": 9,
   "id": "948af60a-3352-4b75-b588-e682726da560",
   "metadata": {},
   "outputs": [
    {
     "data": {
      "text/plain": [
       "['Adobe Analytics, Google Analytics or similar web analytics tools (variables, events, segments, dimensions, custom queries, etc.)',\n",
       " 'Tag management tools (e.g. GTM, DTM, etc.)',\n",
       " 'Digital media, performance marketing and emerging channels such as paid search (Google ads), paid social (Facebook, Instagram ads), email, affiliates etc.',\n",
       " 'Excel and PowerPoint',\n",
       " 'CDP and DMP platforms (Segment, Tealium Audience Stream, Adobe Audience Manager, etc.)',\n",
       " 'SQL (a plus)']"
      ]
     },
     "execution_count": 9,
     "metadata": {},
     "output_type": "execute_result"
    }
   ],
   "source": [
    "job = json_res\n",
    "job['skills']"
   ]
  },
  {
   "cell_type": "code",
   "execution_count": 10,
   "id": "9febe99e-20fb-41a6-9040-af1191cdb278",
   "metadata": {},
   "outputs": [
    {
     "data": {
      "text/plain": [
       "{'role': 'Lead, Global Web Analytics, Converse',\n",
       " 'experience': '5+ years of proven ability in web analytics, digital marketing, and site optimization roles leveraging data and insights to drive recommendations',\n",
       " 'skills': ['Adobe Analytics, Google Analytics or similar web analytics tools (variables, events, segments, dimensions, custom queries, etc.)',\n",
       "  'Tag management tools (e.g. GTM, DTM, etc.)',\n",
       "  'Digital media, performance marketing and emerging channels such as paid search (Google ads), paid social (Facebook, Instagram ads), email, affiliates etc.',\n",
       "  'Excel and PowerPoint',\n",
       "  'CDP and DMP platforms (Segment, Tealium Audience Stream, Adobe Audience Manager, etc.)',\n",
       "  'SQL (a plus)'],\n",
       " 'description': 'Converse is looking for a Lead, Web analytics Global. This role is responsible for supporting the delivery of data driven solutions to improve web analytics insights, marketing performance and understanding the consumer behavior.'}"
      ]
     },
     "execution_count": 10,
     "metadata": {},
     "output_type": "execute_result"
    }
   ],
   "source": [
    "job"
   ]
  },
  {
   "cell_type": "code",
   "execution_count": 11,
   "id": "be7e38fd-5b9b-4576-8fe5-f4f7d1e78e2a",
   "metadata": {},
   "outputs": [
    {
     "data": {
      "text/plain": [
       "[[{'links': 'https://example.com/magento-portfolio'},\n",
       "  {'links': 'https://example.com/flutter-portfolio'}],\n",
       " [{'links': 'https://example.com/flutter-portfolio'},\n",
       "  {'links': 'https://example.com/wordpress-portfolio'}],\n",
       " [{'links': 'https://example.com/android-tv-portfolio'},\n",
       "  {'links': 'https://example.com/kotlin-android-portfolio'}],\n",
       " [{'links': 'https://example.com/angular-portfolio'},\n",
       "  {'links': 'https://example.com/xamarin-portfolio'}],\n",
       " [{'links': 'https://example.com/android-tv-portfolio'},\n",
       "  {'links': 'https://example.com/ios-ar-portfolio'}],\n",
       " [{'links': 'https://example.com/magento-portfolio'},\n",
       "  {'links': 'https://example.com/wordpress-portfolio'}]]"
      ]
     },
     "execution_count": 11,
     "metadata": {},
     "output_type": "execute_result"
    }
   ],
   "source": [
    "links = collection.query(query_texts=job['skills'], n_results=2).get('metadatas', [])\n",
    "links"
   ]
  },
  {
   "cell_type": "code",
   "execution_count": 12,
   "id": "8a1ff110-8ced-4ca5-9bd9-7b2e9c4dc0df",
   "metadata": {},
   "outputs": [
    {
     "name": "stdout",
     "output_type": "stream",
     "text": [
      "Subject: Unlock Data-Driven Insights with McKinsey & Company for Converse's Web Analytics Needs\n",
      "\n",
      "Dear Hiring Manager,\n",
      "\n",
      "I came across the job posting for Lead, Global Web Analytics at Converse, and I'm excited to introduce McKinsey & Company as a potential partner to support your web analytics needs. As a software development engineer at McKinsey & Company, I'd like to highlight our capabilities in delivering data-driven solutions that can help Converse improve web analytics insights, marketing performance, and consumer behavior understanding.\n",
      "\n",
      "Our expertise in web analytics, digital marketing, and site optimization aligns perfectly with the requirements of the role. We have extensive experience in leveraging tools like Adobe Analytics, Google Analytics, and tag management tools (e.g., GTM, DTM) to drive recommendations and improve marketing performance. Our team is also well-versed in digital media, performance marketing, and emerging channels such as paid search, paid social, email, and affiliates.\n",
      "\n",
      "To showcase our capabilities, I'd like to share some relevant examples from our portfolio:\n",
      "\n",
      "* Our work on Magento and WordPress platforms demonstrates our expertise in e-commerce and content management systems, which can be applied to Converse's web analytics needs. (https://example.com/magento-portfolio, https://example.com/wordpress-portfolio)\n",
      "* Our experience with Flutter and Angular portfolios highlights our ability to work with various technologies and frameworks, ensuring seamless integration with Converse's existing infrastructure. (https://example.com/flutter-portfolio, https://example.com/angular-portfolio)\n",
      "\n",
      "At McKinsey & Company, we empower enterprises with tailored solutions that foster scalability, process optimization, cost reduction, and heightened overall efficiency. Our team is committed to delivering high-quality solutions that meet the unique needs of our clients.\n",
      "\n",
      "I'd love to schedule a call to discuss how McKinsey & Company can support Converse's web analytics needs and explore potential collaboration opportunities. Please let me know if you're interested, and I'll be happy to set up a call at your convenience.\n",
      "\n",
      "Best regards,\n",
      "\n",
      "Ayush\n",
      "Software Development Engineer\n",
      "McKinsey & Company\n"
     ]
    }
   ],
   "source": [
    "prompt_email = PromptTemplate.from_template(\n",
    "        \"\"\"\n",
    "        ### JOB DESCRIPTION:\n",
    "        {job_description}\n",
    "        \n",
    "        ### INSTRUCTION:\n",
    "        You are Ayush, a software development engineer at McKinsey & Company. McKinsey & Company is an AI & Software Consulting company dedicated to facilitating\n",
    "        the seamless integration of business processes through automated tools. \n",
    "        Over our experience, we have empowered numerous enterprises with tailored solutions, fostering scalability, \n",
    "        process optimization, cost reduction, and heightened overall efficiency. \n",
    "        Your job is to write a cold email to the client regarding the job mentioned above describing the capability of McKinsey & Company \n",
    "        in fulfilling their needs.\n",
    "        Also add the most relevant ones from the following links to showcase McKinsey & Company portfolio: {link_list}\n",
    "        Remember you are Ayush, SDE at McKinsey & Company. \n",
    "        Do not provide a preamble.\n",
    "        ### EMAIL (NO PREAMBLE):\n",
    "        \n",
    "        \"\"\"\n",
    "        )\n",
    "\n",
    "chain_email = prompt_email | llm\n",
    "res = chain_email.invoke({\"job_description\": str(job), \"link_list\": links})\n",
    "print(res.content)"
   ]
  }
 ],
 "metadata": {
  "kernelspec": {
   "display_name": "Python 3 (ipykernel)",
   "language": "python",
   "name": "python3"
  },
  "language_info": {
   "codemirror_mode": {
    "name": "ipython",
    "version": 3
   },
   "file_extension": ".py",
   "mimetype": "text/x-python",
   "name": "python",
   "nbconvert_exporter": "python",
   "pygments_lexer": "ipython3",
   "version": "3.12.7"
  }
 },
 "nbformat": 4,
 "nbformat_minor": 5
}
